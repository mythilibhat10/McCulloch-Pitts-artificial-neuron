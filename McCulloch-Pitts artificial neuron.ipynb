{
  "nbformat": 4,
  "nbformat_minor": 0,
  "metadata": {
    "colab": {
      "provenance": []
    },
    "kernelspec": {
      "name": "python3",
      "display_name": "Python 3"
    },
    "language_info": {
      "name": "python"
    }
  },
  "cells": [
    {
      "cell_type": "markdown",
      "source": [
        "Implement McCulloch-Pitts artificial neuron."
      ],
      "metadata": {
        "id": "UiOGZVFVatic"
      }
    },
    {
      "cell_type": "code",
      "execution_count": null,
      "metadata": {
        "colab": {
          "base_uri": "https://localhost:8080/"
        },
        "id": "_wUwiw0VZ3MC",
        "outputId": "2df14cfd-33a6-465c-cd4f-14aeb73759ce"
      },
      "outputs": [
        {
          "output_type": "stream",
          "name": "stdout",
          "text": [
            "Input vector:[0 1 1], Weight vector:[-1  1  1]\n"
          ]
        }
      ],
      "source": [
        "import numpy as np\n",
        "np.random.seed(seed=0)\n",
        "I = np.random.choice([0,1], 3)# generate random vector I, sampling from {0,1}\n",
        "W = np.random.choice([-1,1], 3) # generate random vector W, sampling from {-1,1}\n",
        "print(f'Input vector:{I}, Weight vector:{W}')"
      ]
    },
    {
      "cell_type": "code",
      "source": [
        "dot = I @ W\n",
        "print(f'Dot product: {dot}')"
      ],
      "metadata": {
        "colab": {
          "base_uri": "https://localhost:8080/"
        },
        "id": "cA0Ce0smaCuZ",
        "outputId": "0e3433df-b8a7-46ee-d9f3-b954f10405de"
      },
      "execution_count": null,
      "outputs": [
        {
          "output_type": "stream",
          "name": "stdout",
          "text": [
            "Dot product: 2\n"
          ]
        }
      ]
    },
    {
      "cell_type": "code",
      "source": [
        "def linear_threshold_gate(dot: int, T: float) -> int:\n",
        "  if dot >= T:\n",
        "    return 1\n",
        "  else:\n",
        "    return 0"
      ],
      "metadata": {
        "id": "0ZZckRWmaECk"
      },
      "execution_count": null,
      "outputs": []
    },
    {
      "cell_type": "code",
      "source": [
        "T = 1\n",
        "activation = linear_threshold_gate(dot, T)\n",
        "print(f'Activation: {activation}')\n"
      ],
      "metadata": {
        "colab": {
          "base_uri": "https://localhost:8080/"
        },
        "id": "vByxvJ76aZvG",
        "outputId": "36f9715e-8a42-444b-cae8-ff015469604d"
      },
      "execution_count": null,
      "outputs": [
        {
          "output_type": "stream",
          "name": "stdout",
          "text": [
            "Activation: 1\n"
          ]
        }
      ]
    },
    {
      "cell_type": "code",
      "source": [
        "T = 3\n",
        "activation = linear_threshold_gate(dot, T)\n",
        "print(f'Activation: {activation}')\n"
      ],
      "metadata": {
        "id": "qfF55O4Pagu3",
        "outputId": "e3c92b32-9670-43c8-ef6f-f1f89d7c9e1f",
        "colab": {
          "base_uri": "https://localhost:8080/"
        }
      },
      "execution_count": null,
      "outputs": [
        {
          "output_type": "stream",
          "name": "stdout",
          "text": [
            "Activation: 0\n"
          ]
        }
      ]
    },
    {
      "cell_type": "markdown",
      "source": [
        "(i)Implementation of AND gate using M-P Neuron."
      ],
      "metadata": {
        "id": "kPwzlgeja9Eh"
      }
    },
    {
      "cell_type": "code",
      "source": [
        "# matrix of inputs\n",
        "input_table = np.array([\n",
        "[0,0], # both no\n",
        "[0,1], # one no, one yes\n",
        "[1,0], # one yes, one no\n",
        "[1,1] # bot yes\n",
        "])\n",
        "print(f'input table:\\n{input_table}')"
      ],
      "metadata": {
        "colab": {
          "base_uri": "https://localhost:8080/"
        },
        "id": "_bYwSSoabLMV",
        "outputId": "37fab368-5b35-4945-cb23-6b9f945623c9"
      },
      "execution_count": null,
      "outputs": [
        {
          "output_type": "stream",
          "name": "stdout",
          "text": [
            "input table:\n",
            "[[0 0]\n",
            " [0 1]\n",
            " [1 0]\n",
            " [1 1]]\n"
          ]
        }
      ]
    },
    {
      "cell_type": "code",
      "source": [
        "# array of weights\n",
        "weights = np.array([1,1])\n",
        "print(f'weights: {weights}')"
      ],
      "metadata": {
        "colab": {
          "base_uri": "https://localhost:8080/"
        },
        "id": "XRWEIakvbPmD",
        "outputId": "50d5aed1-b0db-405f-f363-1535ac7591a4"
      },
      "execution_count": null,
      "outputs": [
        {
          "output_type": "stream",
          "name": "stdout",
          "text": [
            "weights: [1 1]\n"
          ]
        }
      ]
    },
    {
      "cell_type": "code",
      "source": [
        "# dot product matrix of inputs and weights\n",
        "dot_products = input_table @ weights\n",
        "print(f'Dot products: {dot_products}')"
      ],
      "metadata": {
        "colab": {
          "base_uri": "https://localhost:8080/"
        },
        "id": "lZwMifedbURC",
        "outputId": "4d51ab96-23f9-41f9-817a-b1549ace6403"
      },
      "execution_count": null,
      "outputs": [
        {
          "output_type": "stream",
          "name": "stdout",
          "text": [
            "Dot products: [0 1 1 2]\n"
          ]
        }
      ]
    },
    {
      "cell_type": "code",
      "source": [
        "def linear_threshold_gate(dot: int, T: float) -> int:\n",
        "  if dot >= T:\n",
        "    return 1\n",
        "  else:\n",
        "    return 0"
      ],
      "metadata": {
        "id": "hAI6jgq1bahd"
      },
      "execution_count": null,
      "outputs": []
    },
    {
      "cell_type": "code",
      "source": [
        "T = 2\n",
        "for i in range(0,4):\n",
        "  activation = linear_threshold_gate(dot_products[i], T)\n",
        "  print(f'Activation: {activation}')"
      ],
      "metadata": {
        "colab": {
          "base_uri": "https://localhost:8080/"
        },
        "id": "Y3BHlVuObg2G",
        "outputId": "d81a6f32-cd36-40a3-d3c0-2e0721053253"
      },
      "execution_count": null,
      "outputs": [
        {
          "output_type": "stream",
          "name": "stdout",
          "text": [
            "Activation: 0\n",
            "Activation: 0\n",
            "Activation: 0\n",
            "Activation: 1\n"
          ]
        }
      ]
    },
    {
      "cell_type": "markdown",
      "source": [
        "(ii) Implementation of OR gate using M-P Neuron"
      ],
      "metadata": {
        "id": "F7By6Cnwbv4b"
      }
    },
    {
      "cell_type": "code",
      "source": [
        "#for OR function\n",
        "T = 1\n",
        "for i in range(0,4):\n",
        "  activation = linear_threshold_gate(dot_products[i], T)\n",
        "  print(f'Activation: {activation}')"
      ],
      "metadata": {
        "colab": {
          "base_uri": "https://localhost:8080/"
        },
        "id": "IxNZvnHdbjgL",
        "outputId": "f06a5ad5-7073-427e-c3e7-0ee1e544a226"
      },
      "execution_count": null,
      "outputs": [
        {
          "output_type": "stream",
          "name": "stdout",
          "text": [
            "Activation: 0\n",
            "Activation: 1\n",
            "Activation: 1\n",
            "Activation: 1\n"
          ]
        }
      ]
    },
    {
      "cell_type": "markdown",
      "source": [
        "(iii) Implementation of NOR gate using M-P Neuron"
      ],
      "metadata": {
        "id": "ANkKKC9ilmKZ"
      }
    },
    {
      "cell_type": "code",
      "source": [
        "#For NOR function\n",
        "# array of weights\n",
        "weights = np.array([-1,-1])\n",
        "print(f'weights: {weights}')\n",
        "# dot product matrix of inputs and weights\n",
        "dot_products = input_table @ weights\n",
        "print(f'Dot products: {dot_products}')\n",
        "T = 0\n",
        "for i in range(0,4):\n",
        "  activation = linear_threshold_gate(dot_products[i], T)\n",
        "  print(f'Activation: {activation}')"
      ],
      "metadata": {
        "colab": {
          "base_uri": "https://localhost:8080/"
        },
        "id": "uEpVK5dycHtg",
        "outputId": "7885857f-61b7-4b85-e110-92b76ed5b170"
      },
      "execution_count": null,
      "outputs": [
        {
          "output_type": "stream",
          "name": "stdout",
          "text": [
            "weights: [-1 -1]\n",
            "Dot products: [ 0 -1 -1 -2]\n",
            "Activation: 1\n",
            "Activation: 0\n",
            "Activation: 0\n",
            "Activation: 0\n"
          ]
        }
      ]
    }
  ]
}